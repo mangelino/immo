{
 "cells": [
  {
   "cell_type": "markdown",
   "metadata": {},
   "source": [
    "import logging"
   ]
  },
  {
   "cell_type": "code",
   "execution_count": 1,
   "metadata": {},
   "outputs": [],
   "source": [
    "import logging\n",
    "logging.basicConfig(level=logging.INFO)"
   ]
  },
  {
   "cell_type": "code",
   "execution_count": 2,
   "metadata": {},
   "outputs": [
    {
     "name": "stderr",
     "output_type": "stream",
     "text": [
      "INFO:faiss.loader:Loading faiss.\n",
      "INFO:faiss.loader:Successfully loaded faiss.\n"
     ]
    }
   ],
   "source": [
    "import faiss"
   ]
  },
  {
   "cell_type": "code",
   "execution_count": 3,
   "metadata": {},
   "outputs": [],
   "source": [
    "index = faiss.IndexFlatL2(1024)"
   ]
  },
  {
   "cell_type": "code",
   "execution_count": 4,
   "metadata": {},
   "outputs": [],
   "source": [
    "from bedrock_fm import from_model_id, Model\n",
    "import boto3\n",
    "sess = boto3.Session(region_name='us-west-2')\n",
    "\n",
    "emb = from_model_id(Model.COHERE_EMBED_MULTILINGUAL_V3, session=sess)"
   ]
  },
  {
   "cell_type": "code",
   "execution_count": 5,
   "metadata": {},
   "outputs": [],
   "source": [
    "import json\n",
    "with open(\"apts_db.json\") as f:\n",
    "    apts_db = json.loads(f.read())"
   ]
  },
  {
   "cell_type": "code",
   "execution_count": 6,
   "metadata": {},
   "outputs": [],
   "source": [
    "passages = []\n",
    "for i in range(0,1000):\n",
    "    description = apts_db[i]['description']\n",
    "    for p in description.split('.'):\n",
    "        passages.append({\"passage\": p, \"index\": i})\n",
    "    "
   ]
  },
  {
   "cell_type": "code",
   "execution_count": 7,
   "metadata": {},
   "outputs": [
    {
     "data": {
      "text/plain": [
       "12017"
      ]
     },
     "execution_count": 7,
     "metadata": {},
     "output_type": "execute_result"
    }
   ],
   "source": [
    "len(passages)"
   ]
  },
  {
   "cell_type": "code",
   "execution_count": 24,
   "metadata": {},
   "outputs": [],
   "source": [
    "import numpy as np\n",
    "embeddings = []\n",
    "step = 10\n",
    "for i in range(0,len(passages),step):\n",
    "    ps = [p[\"passage\"] for p in passages[i:i+step]]\n",
    "    v = emb.generate(ps)\n",
    "    embeddings = embeddings + [np.array(x).astype(np.float32) for x in v]\n",
    "    # index.add(np.array(v).astype(np.float32))\n"
   ]
  },
  {
   "cell_type": "code",
   "execution_count": 9,
   "metadata": {},
   "outputs": [],
   "source": [
    "index.is_trained\n",
    "for e in embeddings:\n",
    "     index.add(e.reshape(1,1024))"
   ]
  },
  {
   "cell_type": "code",
   "execution_count": 23,
   "metadata": {},
   "outputs": [],
   "source": []
  },
  {
   "cell_type": "code",
   "execution_count": 8,
   "metadata": {},
   "outputs": [],
   "source": [
    "\n",
    "from bedrock_fm import Claude\n",
    "fm = Claude.from_id(Model.ANTHROPIC_CLAUDE_V2, session=sess)"
   ]
  },
  {
   "cell_type": "code",
   "execution_count": 10,
   "metadata": {},
   "outputs": [],
   "source": [
    "query=\"appartamento da ristrutturare con 2 bagni, doppia esposizione e grande balcone o terrazza\""
   ]
  },
  {
   "cell_type": "code",
   "execution_count": 11,
   "metadata": {},
   "outputs": [],
   "source": [
    "embq = emb.generate_for_query(query)"
   ]
  },
  {
   "cell_type": "code",
   "execution_count": 14,
   "metadata": {},
   "outputs": [
    {
     "data": {
      "text/plain": [
       "1024"
      ]
     },
     "execution_count": 14,
     "metadata": {},
     "output_type": "execute_result"
    }
   ],
   "source": [
    "len(embq)"
   ]
  },
  {
   "cell_type": "code",
   "execution_count": 22,
   "metadata": {},
   "outputs": [
    {
     "name": "stderr",
     "output_type": "stream",
     "text": [
      "INFO:bedrock_fm.bedrock:Body= {\"prompt\": \"\\n\\nHuman:Utilizza la domanda nei tag <domanda></domanda> per creare la descrizione di un appartamento in vendita a Milano. Genera la risposta nei tags <risposta></risposta>.\\n<domanda>appartamento da ristrutturare con 2 bagni, doppia esposizione e grande balcone o terrazza</domanda>\\n\\n\\nAssistant:\", \"max_tokens_to_sample\": 500, \"stop_sequences\": [\"\\n\\nHuman:\"], \"temperature\": 0.7, \"top_p\": 1, \"anthropic_version\": \"bedrock-2023-05-31\"}\n"
     ]
    }
   ],
   "source": [
    "ref = fm.generate(\"Utilizza la domanda nei tag <domanda></domanda> per creare la descrizione di un appartamento in vendita a Milano. Genera la risposta nei tags <risposta></risposta>.\\n<domanda>{query}</domanda>\\n\".format(query = query))\n"
   ]
  },
  {
   "cell_type": "code",
   "execution_count": 23,
   "metadata": {},
   "outputs": [],
   "source": [
    "s = emb.generate(ref)"
   ]
  },
  {
   "cell_type": "code",
   "execution_count": 17,
   "metadata": {},
   "outputs": [
    {
     "data": {
      "text/plain": [
       "(array([[0.72610015, 0.7288239 , 0.73393834, 0.7600924 , 0.76362514,\n",
       "         0.7679779 , 0.77264416, 0.7825053 , 0.7912174 , 0.7912174 ,\n",
       "         0.79277676, 0.81091666, 0.81091666, 0.8414112 , 0.8453514 ,\n",
       "         0.8561789 , 0.871074  , 0.8906592 , 0.9039991 , 0.9151278 ]],\n",
       "       dtype=float32),\n",
       " array([[79, 77, 69, 53, 72, 31, 29, 38, 16, 22, 83, 17, 23, 89, 11, 59,\n",
       "         85, 39, 91, 90]]))"
      ]
     },
     "execution_count": 17,
     "metadata": {},
     "output_type": "execute_result"
    }
   ],
   "source": [
    "sr = index.search(np.array(embq).astype(np.float32).reshape(1,1024),20)\n",
    "sr"
   ]
  },
  {
   "cell_type": "code",
   "execution_count": 21,
   "metadata": {},
   "outputs": [
    {
     "name": "stdout",
     "output_type": "stream",
     "text": [
      "in una  via tranquilla, adiacente  piazza argentina, in stabile d'epoca signorile, al terzo piano, con portineria ed ascensore, vendesi appartamento totalmente da ristrutturare, composto da ingresso, soggiorno con cucina a vista, camera matrimoniale con cabina armadio, camera singola, 2 bagni piu' bagno ospiti, tre balconi e cantina \n",
      "\n",
      "\n",
      " in una  via tranquilla, adiacente  piazza argentina, in stabile d'epoca signorile, al terzo piano, con portineria ed ascensore, vendesi appartamento totalmente da ristrutturare, composto da ingresso, soggiorno con cucina a vista, camera matrimoniale con cabina armadio, camera singola, 2 bagni piu' bagno ospiti, tre balconi e cantina. \n",
      "\n",
      " Price 590000\n",
      "----------\n",
      "Composto da ingresso, ampio soggiorno con accesso a  terrazzo di 10 mq cucina a vista, 3 camere, 2 bagniAppena ristrutturato \n",
      "\n",
      "\n",
      " [Viale Corsica] Luminoso appartamento, 7° piano, 115 mq, elegante condominio d’epoca, con servizio di portineria diurno e ascensore.Composto da ingresso, ampio soggiorno con accesso a  terrazzo di 10 mq cucina a vista, 3 camere, 2 bagniAppena ristrutturato. Cucina e armadiature su misuraSolaio \n",
      "\n",
      " Price 545000\n",
      "----------\n",
      " L'immobile è cosi composto: Ingresso con ampio e luminoso soggiorno con 2 balconcini, cucina abitabile e bagno con vasca idromassaggio e doccia \n",
      "\n",
      "\n",
      " Adiacente alla stazione centrale, proponiamo IN VENDITA appartamento di circa 100 mq sito al terzo e ultimo piano di uno stabile d'epoca con ascensore. L'immobile è cosi composto: Ingresso con ampio e luminoso soggiorno con 2 balconcini, cucina abitabile e bagno con vasca idromassaggio e doccia. E' possibile ricavare una camera da letto nella attuale zona giorno. Tramite scala si accede al soppalco con altezza massima H 185cm, dove vi è la possibilità di creare una seconda camera da letto e uno studio. Immobile con affaccio a doppia esposizione, molto luminoso grazie alla presenza di grandi lucernai. Riscaldamento termoautonomo e porta blindata.Libero subito. \n",
      "\n",
      " Price 618000\n",
      "----------\n",
      "appartamento a piano primo è composto da: ampio soggiorno con camino, con affaccio diretto su balcone semicircolare; cucina abitabile, locale lavanderia, con accesso diretto su un ulteriore balcone semicircolare; disimpegno, due camere da letto, con affaccio diretto su altro balcone semicircolare e due bagni \n",
      "\n",
      "\n",
      " appartamento a piano primo è composto da: ampio soggiorno con camino, con affaccio diretto su balcone semicircolare; cucina abitabile, locale lavanderia, con accesso diretto su un ulteriore balcone semicircolare; disimpegno, due camere da letto, con affaccio diretto su altro balcone semicircolare e due bagni. Dal locale soggiorno, si accede ad un locale disimpegno ove presente una scala di collegamento verso il lastrico solare ad uso esclusivo a piano secondo di ampie dimensioni. Completano l’unità immobiliare n. 3 cantine a piano primo interrato.Il tutto in ottimo stato di manutenzione. Lo stabile è dotato di n. 3 ascensoriL'appartamento è posto a piano primo, con accesso diretto al lastrico solare in uso esclusivo a piano secondo.Le n. 3 cantine sono a piano primo interrato.Il box di pertinenza è a piano secondo interrato.Possibilità di acquisto in pre-astaAcquisto tramite asta giudiziaria con l'assistenza dei consulenti di Milano Aste, con oltre 25 anni di esperienza nel settore aste immobiliari, ed in generale nel settore immobiliare,   potranno fornire assistenza  per tutto l'iter procedurale: • Ricerca immobile in base alle esigenze del cliente • Studio di fattibilità del mutuo mediante primari istituti bancari convenzionati. • Esame della perizia • Visita dell'immobile • analisi e preventivo degli eventuali costi di adeguamento urbanistico/ catastale tramite professionisti interni alla struttura. I nostri consulenti guideranno il cliente  in tutte le fasi dell’operazione, dalla visita all’immobile, alla compilazione della domanda, fino alla consegna delle chiavi e al saldo prezzo che potrà avvenire anche tramite mutuo bancario.Per fissare una consulenza gratuita  è possibile chiamare i numeri 3920934284 oppure 3393195133Ulteriori foto e planimetrie degli immobili non sono pubblicabili per motivi di riservatezza ma saranno visionabili in ufficio  L'esattezza dei dati pubblicati sarà confermata in sede di consulenza.  \n",
      "\n",
      " Price 609000\n",
      "----------\n",
      "L’immobile è da ristrutturare \n",
      "\n",
      "\n",
      " Viale Argonne, a pochi metri dalla nuova linea Metropolitana Blu MM4, proponiamo in vendita ampio quadrilocale di 130 mq., posto al sesto piano, con balcone esposto a sud-ovest. e ottima vista.Zona giorno ampia e aperta con cucina e soggiorno con affaccio sul balcone, tre spaziose camere, un primo bagno finestrato e un secondo cieco.Riscaldamento centralizzato, servizio di portineria e cantina.L’immobile è da ristrutturare.Prezzo: € 600.000. \n",
      "\n",
      " Price 310000\n",
      "----------\n",
      " L'immobile, finemente arredato, si sviluppa su due livelli, al primo: ampio soggiorno con cucina a vista completa di tutti gli elettrodomestici, bagno con doccia e lavanderia; al secondo: 2 camere da letto di cui una con cabina armadio e bagno con vasca \n",
      "\n",
      "\n",
      " Milano-Porta Venezia: Dama RE propone in vendita trilocale in zona Porta Venezia ad.ze Via Settala. A poca distanza dalla fermata della MM Linea Rossa Porta Venezia, in contesto moderno, lussuoso loft di 100 mq al piano rialzato. L'immobile, finemente arredato, si sviluppa su due livelli, al primo: ampio soggiorno con cucina a vista completa di tutti gli elettrodomestici, bagno con doccia e lavanderia; al secondo: 2 camere da letto di cui una con cabina armadio e bagno con vasca. L'appartamento dispone inoltre di armadiature su misura e verrà venduto arredato. Completano la proprietà una cantina di pertinenza ed un posto moto. Possibilità di posto auto. Richiesta € 695.000,00.Classe energetica in fase di valutazione.DAMA RE nasce da un’idea di Sara Damasceni, mediatrice con esperienza ventennale nel settore immobiliare e creditizio. L’alto livello di seniority e professionalità degli agenti, unito ad un grande lavoro di networking e di utilizzo delle nuove tecnologie digitali, ha portato DAMA RE ad essere una realtà in forte espansione, anche in questi ultimi anni in cui il mercato ha messo duramente alla prova molti operatori del settore. Attualmente DAMA RE ha sede a Milano – in Via Revere 16 (MM Pagano). DAMA RE ha al suo interno due divisioni: Agency ed Asset Management. L’Agency comprende un team di mediatori di comprovata e significativa esperienza, ciascuno specializzato nel proprio segmento di mercato. La diversificazione del portafoglio immobiliare e l’alto livello di consulenza personalizzata, uniti ad un modello di business innovativo, permettono di gestire ricerca e offerta sfruttando tutto il potenziale delle nuove tecnologie. Asset Management La nostra approfondita conoscenza del mercato degli investimenti immobiliari, unita alla capacità di sviluppare soluzioni personalizzate, ci consente di promuovere e collocare i migliori Asset presso investitori sia italiani che internazionali. Grazie al posizionamento e alle sinergie costruite nel tempo, DAMA RE rappresenta un punto di riferimento per imprese, investitori, operatori finanziari e privati che sono alla ricerca di opportunità di investimento, fornendo conoscenza e assistenza di alto livello nell’ ambito della vendita, acquisizione, locazione di singoli Asset e/o portafogli immobiliari \n",
      "\n",
      " Price 645000\n",
      "----------\n",
      " commerciali, totalmente ristrutturato, con una doppia esposizione interna/esterna \n",
      "\n",
      "\n",
      " VIA BENEDETTO MARCELLO 91Alle spalle di C.so Buenos Aires, dei Giardini Indro Montanelli e Piazza della Repubblica, nonché nelle immediate vicinanze delle tre principali linee metropolitane di Milano, al primo piano in un signorile contesto d'Epoca con corte interna ascensore e servizio di portineria (mezza giornata), proponiamo un ampio quadrilocale di 120 mq. commerciali, totalmente ristrutturato, con una doppia esposizione interna/esterna. L'immobile si compone di un ingresso nella zona living con soggiorno, cucina a vista e balcone, tre camere da letto matrimoniali una delle quali con una seconda balconata, bagno finestrato su cavedio condominiale e ripostiglio. Completano la proprietà un solaio ed una cantina di pertinenza.LIBERO A ROGITO \n",
      "\n",
      " Price 615000\n",
      "----------\n",
      " commerciali, totalmente ristrutturato, con una doppia esposizione interna/esterna \n",
      "\n",
      "\n",
      " VIA BENEDETTO MARCELLO 91Alle spalle di C.so Buenos Aires, dei Giardini Indro Montanelli e Piazza della Repubblica, nonché nelle immediate vicinanze delle tre principali linee metropolitane di Milano, al primo piano in un signorile contesto d'Epoca con corte interna ascensore e servizio di portineria (mezza giornata), proponiamo un ampio quadrilocale di 120 mq. commerciali, totalmente ristrutturato, con una doppia esposizione interna/esterna. L'immobile si compone di un ingresso nella zona living con soggiorno, cucina a vista e balcone, tre camere da letto matrimoniali una delle quali con una seconda balconata, bagno finestrato su cavedio condominiale e ripostiglio. Completano la proprietà un solaio ed una cantina di pertinenza.LIBERO A ROGITO \n",
      "\n",
      " Price 650000\n",
      "----------\n",
      "L'appartamento, ristrutturato da poco, si compone di un'ampia zona living con cucina a vista e zona pranzo, tre ampie camere da letto matrimoniali, una delle quali con bagno en-suite ed un secondo bagno/lavanderia finestrato \n",
      "\n",
      "\n",
      " VIA PADOVA 109Nelle immediate vicinanze della MM2 Linea Verde Cimiano, in uno stabile signorile degli anni '60 con servizio di portineria, proponiamo al 6° ed ultimo piano un luminoso quadrilocale di 115mq. commerciali.L'appartamento, ristrutturato da poco, si compone di un'ampia zona living con cucina a vista e zona pranzo, tre ampie camere da letto matrimoniali, una delle quali con bagno en-suite ed un secondo bagno/lavanderia finestrato. Completa la soluzione una cantina di pertinenza.L'immobile si presenta in ottimo stato, con pavimentazioni in parquet e gres porcellanato, infissi in alluminio con vetrocamera ed impianto di climatizzazione.LIBERO DA GENNAIO 2024. \n",
      "\n",
      " Price 560000\n",
      "----------\n",
      " Internamente è composto da un ingresso, cucina abitabile con balcone, soggiorno doppio, tre ampie camere da letto e doppi servizi \n",
      "\n",
      "\n",
      " NoLo, 4 locali in casa d'epocaNel cuore di NoLo, adiacente a Piazzetta degli Artisti, dove le vie Soperga, Sauli, Oxilia e Lumière si incrociano per formare un' area pedonale molto graziosa, divenuta punto di incontro e aggregazione con alberi e sedute di design che fanno da contorno alle attività commerciali presenti, proponiamo un ampio 4 locali luminoso e dotato di tripla esposizione, ubicato in un piacevole contesto d' epoca signorile. Internamente è composto da un ingresso, cucina abitabile con balcone, soggiorno doppio, tre ampie camere da letto e doppi servizi. Pavimentazione in parquet e infissi con doppi vetri. L' immobile è dotato inoltre di impianto di climatizzazione. ll quartiere Nolo (north of Loreto) è tra le zone più richieste del momento a Milano. Ottima e strategica la posizione a pochi minuti dalle metropolitane Rossa, Gialla e Verde e a pochi passi dalla fermata del tram 1, da negozi, scuole e supermercati. La Stazione Centrale dista circa 10 minuti a piedi con i relativi collegamenti agli aeroporti, cosi come Corso Buenos Aires e viale Monza. Classe enegetica E - 150,47 Kwh/m2. \n",
      "\n",
      " Price 480000\n",
      "----------\n",
      "L'unità immobiliare è così composta, ingresso cucina semi-abitabile con balcone, ampio soggiorno, 3 camere da letto matrimoniali, 2 bagni \n",
      "\n",
      "\n",
      " Posizionato a 500mt dalla nuova MM di Argonne, in stabile signorile degli anni '50 con servizio di portineria, vendesi appartamento di 133mq commerciali DA RISTRUTTURARE.L'unità immobiliare è così composta, ingresso cucina semi-abitabile con balcone, ampio soggiorno, 3 camere da letto matrimoniali, 2 bagni. Completa la proprietà una comoda cantina. \n",
      "\n",
      " Price 699000\n",
      "----------\n"
     ]
    }
   ],
   "source": [
    "seen = set()\n",
    "for s in sr[1][0]:\n",
    "    ds = passages[s]['index']\n",
    "    if ds in seen:\n",
    "        continue\n",
    "    seen.add(ds)\n",
    "    print(passages[s]['passage'], \"\\n\"*3,apts_db[ds][\"description\"], '\\n\\n', f\"Price {apts_db[ds]['realEstate']['properties'][0]['price']['value']}\")\n",
    "    print(\"-\"*10)"
   ]
  },
  {
   "cell_type": "code",
   "execution_count": 21,
   "metadata": {},
   "outputs": [
    {
     "ename": "TypeError",
     "evalue": "'IndexFlatL2' object is not subscriptable",
     "output_type": "error",
     "traceback": [
      "\u001b[0;31m---------------------------------------------------------------------------\u001b[0m",
      "\u001b[0;31mTypeError\u001b[0m                                 Traceback (most recent call last)",
      "\u001b[1;32m/Users/angmas/Projects/immo/faiss.ipynb Cell 12\u001b[0m line \u001b[0;36m1\n\u001b[0;32m----> <a href='vscode-notebook-cell:/Users/angmas/Projects/immo/faiss.ipynb#X30sZmlsZQ%3D%3D?line=0'>1</a>\u001b[0m index[\u001b[39m6\u001b[39;49m]\n",
      "\u001b[0;31mTypeError\u001b[0m: 'IndexFlatL2' object is not subscriptable"
     ]
    }
   ],
   "source": []
  },
  {
   "cell_type": "code",
   "execution_count": 49,
   "metadata": {},
   "outputs": [],
   "source": [
    "import numpy as np"
   ]
  },
  {
   "cell_type": "code",
   "execution_count": 57,
   "metadata": {},
   "outputs": [],
   "source": [
    "a = np.array(v).astype(dtype=np.float32)"
   ]
  },
  {
   "cell_type": "code",
   "execution_count": 58,
   "metadata": {},
   "outputs": [
    {
     "data": {
      "text/plain": [
       "(5, 1024)"
      ]
     },
     "execution_count": 58,
     "metadata": {},
     "output_type": "execute_result"
    }
   ],
   "source": [
    "a.shape"
   ]
  },
  {
   "cell_type": "code",
   "execution_count": 59,
   "metadata": {},
   "outputs": [
    {
     "data": {
      "text/plain": [
       "dtype('float32')"
      ]
     },
     "execution_count": 59,
     "metadata": {},
     "output_type": "execute_result"
    }
   ],
   "source": [
    "a.dtype"
   ]
  },
  {
   "cell_type": "code",
   "execution_count": 22,
   "metadata": {},
   "outputs": [
    {
     "data": {
      "text/plain": [
       "<faiss.swigfaiss.UInt8Vector; proxy of <Swig Object of type 'std::vector< unsigned char > *' at 0x169604810> >"
      ]
     },
     "execution_count": 22,
     "metadata": {},
     "output_type": "execute_result"
    }
   ],
   "source": [
    "index.codes"
   ]
  },
  {
   "cell_type": "code",
   "execution_count": 23,
   "metadata": {},
   "outputs": [],
   "source": [
    "faiss.write_index(index, \"immo.index\")"
   ]
  },
  {
   "cell_type": "code",
   "execution_count": null,
   "metadata": {},
   "outputs": [],
   "source": []
  }
 ],
 "metadata": {
  "kernelspec": {
   "display_name": "immo-0wV-OLt7-py3.10",
   "language": "python",
   "name": "python3"
  },
  "language_info": {
   "codemirror_mode": {
    "name": "ipython",
    "version": 3
   },
   "file_extension": ".py",
   "mimetype": "text/x-python",
   "name": "python",
   "nbconvert_exporter": "python",
   "pygments_lexer": "ipython3",
   "version": "3.10.6"
  }
 },
 "nbformat": 4,
 "nbformat_minor": 2
}
